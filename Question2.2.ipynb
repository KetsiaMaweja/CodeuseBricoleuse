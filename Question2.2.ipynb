{
 "cells": [
  {
   "cell_type": "code",
   "execution_count": 1,
   "id": "85316ffe-45b5-4af7-9abd-0d6e967e2a62",
   "metadata": {},
   "outputs": [
    {
     "name": "stdout",
     "output_type": "stream",
     "text": [
      "Specimen position in base frame (x, y, z): [0.2752806  0.31526013 1.77079633]\n"
     ]
    }
   ],
   "source": [
    "import numpy as np\n",
    "import math  # Import the math library for trigonometric functions\n",
    "\n",
    "# Assuming known DH parameters (replace with actual values for your manipulator)\n",
    "DH_params = np.array([\n",
    "    [0, 0.3, 0, np.pi/2],  # Joint 1\n",
    "    [np.pi/2, 0, 0.4, 0],   # Joint 2\n",
    "    [0, 0.2, 0, np.pi/2]   # Joint 3\n",
    "])\n",
    "\n",
    "# Specimen position relative to end-effector\n",
    "specimen_position = np.array([0.1, 0.2, -0.3, 1])  # k, l, -m, 1\n",
    "\n",
    "# Function to create a homogeneous transformation matrix\n",
    "def create_HTM(alpha, a, theta, d):\n",
    "  return np.array([\n",
    "      [math.cos(theta), -math.sin(theta)*math.cos(alpha), math.sin(theta)*math.sin(alpha), a*math.cos(theta)],\n",
    "      [math.sin(theta),  math.cos(theta)*math.cos(alpha), -math.cos(theta)*math.sin(alpha), a*math.sin(theta)],\n",
    "      [0,              math.sin(alpha),              math.cos(alpha),              d],\n",
    "      [0,              0,                          0,                          1]\n",
    "  ])\n",
    "\n",
    "# Create individual transformation matrices for each joint\n",
    "HTM_list = []\n",
    "for alpha, a, theta, d in DH_params:\n",
    "  HTM_list.append(create_HTM(alpha, a, theta, d))\n",
    "\n",
    "# Calculate the final HTM (base to end-effector)\n",
    "T_0_n = np.matmul(*HTM_list)\n",
    "\n",
    "# Calculate specimen position in base frame\n",
    "specimen_base_position = np.matmul(T_0_n, specimen_position)\n",
    "\n",
    "# Print the specimen position in base frame (x, y, z)\n",
    "print(\"Specimen position in base frame (x, y, z):\", specimen_base_position[:3])\n"
   ]
  },
  {
   "cell_type": "code",
   "execution_count": null,
   "id": "c306e0c6-314b-4505-a2ac-12620959ac93",
   "metadata": {},
   "outputs": [],
   "source": []
  },
  {
   "cell_type": "code",
   "execution_count": null,
   "id": "2df33006-4873-4286-a285-22a4c7a9a62d",
   "metadata": {},
   "outputs": [],
   "source": []
  }
 ],
 "metadata": {
  "kernelspec": {
   "display_name": "Python 3 (ipykernel)",
   "language": "python",
   "name": "python3"
  },
  "language_info": {
   "codemirror_mode": {
    "name": "ipython",
    "version": 3
   },
   "file_extension": ".py",
   "mimetype": "text/x-python",
   "name": "python",
   "nbconvert_exporter": "python",
   "pygments_lexer": "ipython3",
   "version": "3.10.13"
  }
 },
 "nbformat": 4,
 "nbformat_minor": 5
}
